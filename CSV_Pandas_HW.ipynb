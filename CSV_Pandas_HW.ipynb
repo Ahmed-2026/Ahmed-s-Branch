{
 "cells": [
  {
   "cell_type": "code",
   "execution_count": 5,
   "id": "d9bcfd00-40a7-4cba-a558-600cf75083ea",
   "metadata": {},
   "outputs": [
    {
     "name": "stdout",
     "output_type": "stream",
     "text": [
      "  Unnamed: 0     Unnamed: 1 Unnamed: 2 Unnamed: 3      Unnamed: 4 Totals  \\\n",
      "0         Rk         Player      Class        Pos          School      G   \n",
      "1          1   Amaree Abram         SO          G    Georgia Tech     10   \n",
      "2          2   Sola Adebisi         FR          F   Florida State      7   \n",
      "3          3  Prince Aligbe         SO          F  Boston College     35   \n",
      "4          4     Abe Atiyeh         SR          G  Boston College      4   \n",
      "\n",
      "  Unnamed: 6 Unnamed: 7 Unnamed: 8 Unnamed: 9  ... Unnamed: 11 Unnamed: 12  \\\n",
      "0         MP        TRB        AST        STL  ...         TOV          PF   \n",
      "1        108         17         11          1  ...           9          10   \n",
      "2          9          1          1          0  ...           1           1   \n",
      "3        651        119         21         15  ...          30          51   \n",
      "4          6          0          0          0  ...           1           0   \n",
      "\n",
      "  Unnamed: 13 Shooting Unnamed: 15 Unnamed: 16 Unnamed: 17 Advanced  \\\n",
      "0         PTS      FG%         2P%         3P%         FT%      PER   \n",
      "1          34    0.262       0.318         0.2       0.615      4.1   \n",
      "2           2      0.5         0.5         NaN         NaN      3.5   \n",
      "3         164    0.435       0.522       0.147        0.62      9.4   \n",
      "4           3    0.333           0           1         NaN      1.1   \n",
      "\n",
      "  Unnamed: 19 Unnamed: 20  \n",
      "0          WS         BPM  \n",
      "1        -0.1        -6.4  \n",
      "2           0        -6.7  \n",
      "3         0.9        -1.3  \n",
      "4           0        -8.2  \n",
      "\n",
      "[5 rows x 21 columns]\n"
     ]
    }
   ],
   "source": [
    "import pandas as pd\n",
    "\n",
    "df = pd.read_csv('/Users/ahmed2/Downloads/acc_players-2324F.csv')\n",
    "\n",
    "print(df.head())"
   ]
  },
  {
   "cell_type": "code",
   "execution_count": 39,
   "id": "2321a9b9-fc75-43b8-a0d6-12ddba3098b5",
   "metadata": {},
   "outputs": [
    {
     "name": "stdout",
     "output_type": "stream",
     "text": [
      "Total points scored by all players: 38411\n",
      "\n",
      "Player with the most minutes played:\n",
      "Name: Casey Morsell\n",
      "Team: NC State\n",
      "Minutes Played: 1333\n",
      "\n",
      "Top 5 players in terms of total rebounds:\n",
      "              Player          School  TRB\n",
      "5      Armando Bacot  North Carolina  380\n",
      "178  Ian Schieffelin         Clemson  340\n",
      "90   Harrison Ingram  North Carolina  327\n",
      "44    Mohamed Diarra        NC State  311\n",
      "149    Norchad Omier      Miami (FL)  309\n"
     ]
    }
   ],
   "source": [
    "# convert the columns to be numeric\n",
    "df[['PTS', 'MP', 'TRB']] = df[['PTS', 'MP', 'TRB']].apply(pd.to_numeric, errors='coerce')\n",
    "\n",
    "# calculate the total poins scored by all the players combined \n",
    "total_points = df['PTS'].sum()\n",
    "\n",
    "# find the player who has the most minutes played \n",
    "max_minutes_player = df.loc[df['MP'].idxmax()]\n",
    "\n",
    "# top 5 plaers in terms of total rebounds \n",
    "top_rebounders = df.nlargest(5, 'TRB')\n",
    "\n",
    "# display results \n",
    "print(f\"Total points scored by all players: {total_points}\")\n",
    "\n",
    "print(\"\\nPlayer with the most minutes played:\")\n",
    "print(f\"Name: {max_minutes_player['Player']}\")\n",
    "print(f\"Team: {max_minutes_player['School']}\")\n",
    "print(f\"Minutes Played: {max_minutes_player['MP']}\")\n",
    "\n",
    "print(\"\\nTop 5 players in terms of total rebounds:\")\n",
    "print(top_rebounders[['Player', 'School', 'TRB']])"
   ]
  },
  {
   "cell_type": "code",
   "execution_count": 41,
   "id": "bcbc4c75-b506-440e-a084-92596333023b",
   "metadata": {},
   "outputs": [
    {
     "name": "stdout",
     "output_type": "stream",
     "text": [
      "Number of players who played more than 500 minutes: 98\n",
      "\n",
      "Player with the highest total assists (among those who played >500 minutes):\n",
      "Name: Reece Beekman\n",
      "Team: Virginia\n",
      "Total Assists: 212\n",
      "\n",
      "Top 3 Assist Leaders in the League:\n",
      "             Player          School  AST\n",
      "7     Reece Beekman        Virginia  212\n",
      "215  Jaeden Zackery  Boston College  152\n",
      "21    Elliot Cadeau  North Carolina  150\n",
      "\n",
      "Top 3 Shot Blockers in the League:\n",
      "            Player          School  BLK\n",
      "51       Ryan Dunn        Virginia   77\n",
      "157   Quinten Post  Boston College   61\n",
      "5    Armando Bacot  North Carolina   56\n"
     ]
    }
   ],
   "source": [
    "# convert the columns to be numeric\n",
    "df[['MP', 'AST', 'BLK']] = df[['MP', 'AST', 'BLK']].apply(pd.to_numeric, errors='coerce')\n",
    "\n",
    "# new DF that contains only the players who played more than 500 minutes \n",
    "df_filtered = df[df['MP'] > 500].copy()\n",
    "\n",
    "# player with the highest total assists \n",
    "top_assist_player = df_filtered.loc[df_filtered['AST'].idxmax()]\n",
    "\n",
    "# top 3 assist leaders in the league \n",
    "top_3_assists = df.nlargest(3, 'AST')\n",
    "\n",
    "# top 3 shot blockers \n",
    "top_3_blockers = df.nlargest(3, 'BLK')\n",
    "\n",
    "# display results \n",
    "print(f\"Number of players who played more than 500 minutes: {len(df_filtered)}\")\n",
    "\n",
    "print(\"\\nPlayer with the highest total assists (among those who played >500 minutes):\")\n",
    "print(f\"Name: {top_assist_player['Player']}\")\n",
    "print(f\"Team: {top_assist_player['School']}\")\n",
    "print(f\"Total Assists: {top_assist_player['AST']}\")\n",
    "\n",
    "print(\"\\nTop 3 Assist Leaders in the League:\")\n",
    "print(top_3_assists[['Player', 'School', 'AST']])\n",
    "\n",
    "print(\"\\nTop 3 Shot Blockers in the League:\")\n",
    "print(top_3_blockers[['Player', 'School', 'BLK']])"
   ]
  },
  {
   "cell_type": "code",
   "execution_count": 43,
   "id": "e1a1855a-245f-403b-a43b-6c7b9da2ad08",
   "metadata": {},
   "outputs": [
    {
     "name": "stdout",
     "output_type": "stream",
     "text": [
      "Total points scored by each school:\n",
      "NC State: 3101\n",
      "North Carolina: 3032\n",
      "Duke: 2830\n",
      "Clemson: 2785\n",
      "Wake Forest: 2733\n",
      "Boston College: 2667\n",
      "Virginia Tech: 2547\n",
      "Florida State: 2526\n",
      "Pittsburgh: 2495\n",
      "Syracuse: 2442\n",
      "Miami (FL): 2424\n",
      "Louisville: 2304\n",
      "Georgia Tech: 2272\n",
      "Virginia: 2140\n",
      "Notre Dame: 2113\n",
      "\n",
      "Total assists for each team:\n",
      "Duke: 551\n",
      "NC State: 536\n",
      "North Carolina: 536\n",
      "Clemson: 533\n",
      "Virginia Tech: 514\n",
      "Boston College: 509\n",
      "Virginia: 509\n",
      "Miami (FL): 454\n",
      "Pittsburgh: 452\n",
      "Syracuse: 442\n",
      "Wake Forest: 429\n",
      "Georgia Tech: 425\n",
      "Florida State: 406\n",
      "Louisville: 356\n",
      "Notre Dame: 335\n",
      "\n",
      "Top 3 schools by total points scored:\n",
      "NC State: 3101 points, 536 assists\n",
      "North Carolina: 3032 points, 536 assists\n",
      "Duke: 2830 points, 551 assists\n"
     ]
    }
   ],
   "source": [
    "# convert the columns to be numeric\n",
    "df[['PTS', 'AST']] = df[['PTS', 'AST']].apply(pd.to_numeric, errors='coerce')\n",
    "\n",
    "# group players by the school and then calculate the total points and assists of each\n",
    "school_points = df.groupby('School')['PTS'].sum().sort_values(ascending=False)\n",
    "school_assists = df.groupby('School')['AST'].sum().sort_values(ascending=False)\n",
    "\n",
    "# display results \n",
    "print(\"Total points scored by each school:\")\n",
    "for school, points in school_points.items():\n",
    "    print(f\"{school}: {points:.0f}\")\n",
    "\n",
    "print(\"\\nTotal assists for each team:\")\n",
    "for school, assists in school_assists.items():\n",
    "    print(f\"{school}: {assists:.0f}\")\n",
    "\n",
    "print(\"\\nTop 3 schools by total points scored:\")\n",
    "for school in school_points.head(3).index:\n",
    "    print(f\"{school}: {school_points[school]:.0f} points, {school_assists[school]:.0f} assists\")"
   ]
  },
  {
   "cell_type": "code",
   "execution_count": 57,
   "id": "e456de30-9e0a-48f4-8d57-37ebce97b1ab",
   "metadata": {},
   "outputs": [],
   "source": [
    "# Reflection:\n",
    "# Working with CSV files and Pandas DataFrames on this ACC basketball statistics assignment taught me valuable data manipulation abilities. I learnt how to read sports performance data files, convert statistical columns to appropriate numerical types, and do basic analysis such as grouping players by school and sorting by performance measures like points and assists. These approaches are critical for sports data analysis and will be valuable in future projects across other industries. For example, I could use these skills to analyze financial data in CSV format for a commercial project, evaluate environmental sensor readings for a climate study, or review patient records for a healthcare research venture.\n",
    "# The most challenging part was getting started, especially converting columns to numeric types. I encountered errors initially, which highlighted the importance of proper data type handling. Overcoming this involved carefully examining the data and understanding pandas functions like pd.to_numeric(). This experience show me how crucial data cleaning is in the analysis process.\n",
    "# The skills gained from analyzing basketball statistics can be applied to other datasets. Similar techniques could be used in business to analyze sales data or in healthcare to study patient outcomes. The assignment has prepared me for future data challenges by emphasizing both technical skills and problem-solving abilities. It's given me a solid foundation for handling real-world data, which is often messy and unpredictable."
   ]
  }
 ],
 "metadata": {
  "kernelspec": {
   "display_name": "Python 3 (ipykernel)",
   "language": "python",
   "name": "python3"
  },
  "language_info": {
   "codemirror_mode": {
    "name": "ipython",
    "version": 3
   },
   "file_extension": ".py",
   "mimetype": "text/x-python",
   "name": "python",
   "nbconvert_exporter": "python",
   "pygments_lexer": "ipython3",
   "version": "3.12.4"
  }
 },
 "nbformat": 4,
 "nbformat_minor": 5
}
