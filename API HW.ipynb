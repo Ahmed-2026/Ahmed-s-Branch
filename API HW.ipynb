{
 "cells": [
  {
   "cell_type": "code",
   "execution_count": 45,
   "id": "286b12d0-f090-4e14-8347-ce8fd0ec32df",
   "metadata": {},
   "outputs": [],
   "source": [
    "import json\n",
    "import pandas as pd\n",
    "import json\n",
    "import requests"
   ]
  },
  {
   "cell_type": "code",
   "execution_count": 47,
   "id": "c4f55bca-f8e1-49bb-8cef-c819467b71c0",
   "metadata": {},
   "outputs": [
    {
     "name": "stdin",
     "output_type": "stream",
     "text": [
      "Enter a stock symbol:  AAPL\n"
     ]
    }
   ],
   "source": [
    "stock = input(\"Enter a stock symbol: \")"
   ]
  },
  {
   "cell_type": "code",
   "execution_count": 49,
   "id": "40ebda96-ea8a-47ea-aece-3d76b984d208",
   "metadata": {},
   "outputs": [
    {
     "name": "stdout",
     "output_type": "stream",
     "text": [
      "You entered: AAPL\n"
     ]
    }
   ],
   "source": [
    "print(f\"You entered: {stock}\")"
   ]
  },
  {
   "cell_type": "code",
   "execution_count": 67,
   "id": "5ae4bd50-0404-4aaf-8155-5e1471330e8f",
   "metadata": {},
   "outputs": [],
   "source": [
    "api_key = \"htPXUB46Es80hU8kDA1n15yvvryMLBiA5qwfVNgH\"\n",
    "\n",
    "# API request for quote data\n",
    "quote_url = f\"https://yfapi.net/v6/finance/quote\"\n",
    "summary_url = f\"https://yfapi.net/v11/finance/quoteSummary/{stock}\"\n",
    "trending_url = \"https://yfapi.net/v1/finance/trending/US\"\n",
    "response = requests.get(trending_url, headers=headers)\n",
    "\n",
    "headers = {'x-api-key': api_key}\n",
    "quote_params = {\"symbols\": stock}\n",
    "summary_params = {\"modules\": \"financialData\"}\n",
    "\n",
    "quote_response = requests.get(quote_url, headers=headers, params=quote_params)\n",
    "summary_response = requests.get(summary_url, headers=headers, params=summary_params)\n",
    "\n",
    "quote_data = quote_response.json()\n",
    "summary_data = summary_response.json()"
   ]
  },
  {
   "cell_type": "code",
   "execution_count": 81,
   "id": "6ea7bbc1-f1be-4e5d-92e4-692a2c20c529",
   "metadata": {},
   "outputs": [
    {
     "name": "stdout",
     "output_type": "stream",
     "text": [
      "  Ticker Symbol   Full Name  Current Market Price  Target Mean Price  \\\n",
      "0          AAPL  Apple Inc.                227.79             240.58   \n",
      "\n",
      "   52 Week High  52 Week Low  \n",
      "0        237.23       164.08  \n",
      "\n",
      "Stock data saved to {'symbol': 'NNN'}_data.csv\n"
     ]
    }
   ],
   "source": [
    "if 'quoteResponse' in quote_data and 'result' in quote_data['quoteResponse'] and quote_data['quoteResponse']['result']:\n",
    "    result = quote_data['quoteResponse']['result'][0]\n",
    "    financial_data = summary_data.get('quoteSummary', {}).get('result', [{}])[0].get('financialData', {})\n",
    "    \n",
    "    stock_info = {\n",
    "        \"Ticker Symbol\": result['symbol'],\n",
    "        \"Full Name\": result['longName'],\n",
    "        \"Current Market Price\": result['regularMarketPrice'],\n",
    "        \"Target Mean Price\": financial_data.get('targetMeanPrice', {}).get('raw', 'N/A'),\n",
    "        \"52 Week High\": result['fiftyTwoWeekHigh'],\n",
    "        \"52 Week Low\": result['fiftyTwoWeekLow']\n",
    "    }\n",
    "    \n",
    "    # Create DataFrame and display\n",
    "    df = pd.DataFrame([stock_info])\n",
    "    print(df)\n",
    "    \n",
    "    # Save to CSV\n",
    "    csv_filename = f\"{stock}_data.csv\"\n",
    "    df.to_csv(csv_filename, index=False)\n",
    "    print(f\"\\nStock data saved to {csv_filename}\")\n",
    "else:\n",
    "    print(\"Unable to fetch stock data.\")\n"
   ]
  },
  {
   "cell_type": "code",
   "execution_count": 83,
   "id": "1cd71e5f-6332-449a-b4bb-598a9c64fe4a",
   "metadata": {},
   "outputs": [
    {
     "name": "stdout",
     "output_type": "stream",
     "text": [
      "\n",
      "5 Current Trending Stocks:\n",
      "     Symbol\n",
      "0   BTC-USD\n",
      "1   XRP-USD\n",
      "2  DOGE-USD\n",
      "3      SCHD\n",
      "4       NNN\n",
      "\n",
      "Trending stocks saved to trending_stocks.csv\n"
     ]
    }
   ],
   "source": [
    "trending_url = \"https://yfapi.net/v1/finance/trending/US\"\n",
    "trending_response = requests.get(trending_url, headers=headers)\n",
    "trending_data = trending_response.json()\n",
    "\n",
    "# Display trending stocks\n",
    "print(\"\\n5 Current Trending Stocks:\")\n",
    "try:\n",
    "    trending_stocks = trending_data['finance']['result'][0]['quotes'][:5]\n",
    "    trending_df = pd.DataFrame([{\"Symbol\": stock['symbol']} for stock in trending_stocks])\n",
    "    print(trending_df)\n",
    "    \n",
    "    # Save trending stocks to CSV\n",
    "    trending_csv = \"trending_stocks.csv\"\n",
    "    trending_df.to_csv(trending_csv, index=False)\n",
    "    print(f\"\\nTrending stocks saved to {trending_csv}\")\n",
    "except Exception as e:\n",
    "    print(f\"Unable to fetch trending stocks: {e}\")"
   ]
  },
  {
   "cell_type": "code",
   "execution_count": null,
   "id": "c4b4a548-46b0-4652-8b5f-59aa49e0d61b",
   "metadata": {},
   "outputs": [],
   "source": []
  }
 ],
 "metadata": {
  "kernelspec": {
   "display_name": "Python 3 (ipykernel)",
   "language": "python",
   "name": "python3"
  },
  "language_info": {
   "codemirror_mode": {
    "name": "ipython",
    "version": 3
   },
   "file_extension": ".py",
   "mimetype": "text/x-python",
   "name": "python",
   "nbconvert_exporter": "python",
   "pygments_lexer": "ipython3",
   "version": "3.12.4"
  }
 },
 "nbformat": 4,
 "nbformat_minor": 5
}
